{
 "metadata": {
  "language_info": {
   "codemirror_mode": {
    "name": "ipython",
    "version": 3
   },
   "file_extension": ".py",
   "mimetype": "text/x-python",
   "name": "python",
   "nbconvert_exporter": "python",
   "pygments_lexer": "ipython3",
   "version": "3.9.2"
  },
  "orig_nbformat": 2,
  "kernelspec": {
   "name": "python3",
   "display_name": "Python 3.9.2 64-bit ('test': conda)",
   "metadata": {
    "interpreter": {
     "hash": "f7accf39a39d32955b3c513c1171d164986b042d59e052ce5da0fdb23dc3fac8"
    }
   }
  }
 },
 "nbformat": 4,
 "nbformat_minor": 2,
 "cells": [
  {
   "cell_type": "code",
   "execution_count": 1,
   "metadata": {},
   "outputs": [],
   "source": [
    "# this is only necessary if the jpype module (imported by efmtool_link.efmtool_intern) is not able to find Java on its own\n",
    "import os\n",
    "os.environ['JAVA_HOME'] = r\"C:\\\\Program Files\\\\AdoptOpenJDK\\\\jdk-11.0.8.10-hotspot\""
   ]
  },
  {
   "cell_type": "code",
   "execution_count": 2,
   "metadata": {},
   "outputs": [
    {
     "output_type": "stream",
     "name": "stderr",
     "text": [
      "No objective coefficients in model. Unclear what should be optimized\n"
     ]
    }
   ],
   "source": [
    "import efmtool_link.efmtool_intern as efmtool_intern\n",
    "import numpy\n",
    "import cobra\n",
    "model = cobra.io.read_sbml_model(r\"metatool_example_no_ext.xml\")\n"
   ]
  },
  {
   "cell_type": "code",
   "execution_count": 3,
   "metadata": {},
   "outputs": [
    {
     "output_type": "execute_result",
     "data": {
      "text/plain": [
       "0.0"
      ]
     },
     "metadata": {},
     "execution_count": 3
    }
   ],
   "source": [
    "# calculate nullspace using rational arithmetic\n",
    "st = cobra.util.array.create_stoichiometric_matrix(model, array_type='lil')\n",
    "kn = efmtool_intern.null_rat_efmtool(st)\n",
    "numpy.max(numpy.abs(st @ kn))"
   ]
  },
  {
   "cell_type": "code",
   "execution_count": 4,
   "metadata": {},
   "outputs": [
    {
     "output_type": "stream",
     "name": "stdout",
     "text": [
      "2021-03-26  13:26:01.322  main                     INFO     | =====================================================\n",
      "2021-03-26  13:26:01.322  main                     INFO     | efmtool version 4.7.1, 2009-12-04 18:30:05\n",
      "2021-03-26  13:26:01.326  main                     INFO     | Copyright (c) 2009, Marco Terzer, Zurich, Switzerland\n",
      "2021-03-26  13:26:01.330  main                     INFO     | This is free software, !!! NO WARRANTY !!!\n",
      "2021-03-26  13:26:01.333  main                     INFO     | See LICENCE.txt for redistribution conditions\n",
      "2021-03-26  13:26:01.335  main                     INFO     | =====================================================\n",
      "2021-03-26  13:26:01.527  main    efm.impl         INFO     | Elemetary flux mode computation\n",
      "2021-03-26  13:26:01.527  main    efm.impl         INFO     | Implementation:\n",
      "2021-03-26  13:26:01.527  main    efm.impl         INFO     | ..algorithm name   : SequentialDoubleDescriptionImpl\n",
      "2021-03-26  13:26:01.527  main    efm.impl         INFO     | ..model type       : NullspaceEfmModel\n",
      "2021-03-26  13:26:01.527  main    efm.impl         INFO     | ..memory type      : InCoreMemory\n",
      "2021-03-26  13:26:01.527  main    efm.impl         INFO     | ..output type      : RandomAccessFile\n",
      "2021-03-26  13:26:01.528  main    efm.impl         INFO     | System:\n",
      "2021-03-26  13:26:01.562  main    efm.impl         INFO     | ..hostname         : NOOP\n",
      "2021-03-26  13:26:01.563  main    efm.impl         INFO     | ..operating system : amd64/Windows 10/10.0\n",
      "2021-03-26  13:26:01.563  main    efm.impl         INFO     | ..processors       : 4\n",
      "2021-03-26  13:26:01.563  main    efm.impl         INFO     | ..vm               : AdoptOpenJDK/OpenJDK 64-Bit Server VM/11.0.8+10\n",
      "2021-03-26  13:26:01.563  main    efm.impl         INFO     | ..vm-spec          : Oracle Corporation/Java Virtual Machine Specification/11\n",
      "2021-03-26  13:26:01.564  main    efm.impl         INFO     | ..vm arguments     : []\n",
      "2021-03-26  13:26:01.565  main    efm.impl         INFO     | ..memory, commited : 134M\n",
      "2021-03-26  13:26:01.565  main    efm.impl         INFO     | ..memory, used     : 5M\n",
      "2021-03-26  13:26:01.565  main    efm.impl         INFO     | Config:\n",
      "2021-03-26  13:26:01.565  main    efm.impl         INFO     | ..generator        : Efm\n",
      "2021-03-26  13:26:01.565  main    efm.impl         INFO     | ..adj method       : pattern-tree-minzero\n",
      "2021-03-26  13:26:01.565  main    efm.impl         INFO     | ..row ordering     : MostZerosOrAbsLexMin\n",
      "2021-03-26  13:26:01.569  main    efm.impl         INFO     | ..arithmetic       : double (prec: -1 / zero: 1.0E-10)\n",
      "2021-03-26  13:26:01.569  main    efm.impl         INFO     | ..compression      : on\n",
      "2021-03-26  13:26:01.570  main    efm.impl         INFO     | ..compr. methods   : [CoupledZero, CoupledContradicting, CoupledCombine, UniqueFlows, DeadEnd, Recursive]\n",
      "2021-03-26  13:26:01.571  main    efm.impl         INFO     | ..normalize        : min\n",
      "2021-03-26  13:26:01.571  main    efm.impl         INFO     | ..max threads      : 4\n",
      "2021-03-26  13:26:01.571  main    efm.impl         INFO     | ..self test        : off\n",
      "2021-03-26  13:26:01.572  main    efm.impl         INFO     | ..progress type    : None\n",
      "2021-03-26  13:26:01.575  main    efm.impl         INFO     | ..progress part.   : 100\n",
      "2021-03-26  13:26:01.576  main    efm.impl         INFO     | ..suppress         : []\n",
      "2021-03-26  13:26:01.577  main    efm.impl         INFO     | ..enforce          : []\n",
      "2021-03-26  13:26:01.577  main    efm.impl         INFO     | ..nosplit          : []\n",
      "2021-03-26  13:26:01.578  main    efm.impl         INFO     | ..temp dir         : C:\\Users\\axel_2\\AppData\\Local\\Temp\\tmpiu2xmoko\\.\\???\n",
      "2021-03-26  13:26:01.580  main    efm.impl         INFO     | ..flag             : (none)\n",
      "2021-03-26  13:26:01.580  main    efm.impl         INFO     | Distributed Config:\n",
      "2021-03-26  13:26:01.581  main    efm.impl         INFO     | ..node count       : 2\n",
      "2021-03-26  13:26:01.581  main    efm.impl         INFO     | ..nodes            : [localhost, localhost]\n",
      "2021-03-26  13:26:01.581  main    efm.impl         INFO     | ..vmargs           : [-Xmx800M, -Xmx500M]\n",
      "2021-03-26  13:26:01.581  main    efm.impl         INFO     | ..command          : /usr/bin/java [vmargs] -cp [classpath] [class] [args]\n",
      "2021-03-26  13:26:01.581  main    efm.impl         INFO     | ..partition        : 256\n",
      "2021-03-26  13:26:01.581  main    efm.impl         INFO     | ..cand. threshold  : 100000\n",
      "2021-03-26  13:26:01.600  main    efm.impl         INFO     | original network: 16 metabolites, 24 reactions (9 reversible)\n",
      "2021-03-26  13:26:01.670  main    efm.impl         INFO     | compressed network: 7 metabolites, 15 reactions (5 reversible)\n",
      "2021-03-26  13:26:01.731  main    efm.impl         INFO     | stoich expanded has dimensions 7x20\n",
      "2021-03-26  13:26:01.731  main    efm.impl         INFO     | kernel matrix has dimensions 20x14\n",
      "2021-03-26  13:26:01.731  main    efm.impl         INFO     | TIME preprocessing: 227ms\n",
      "2021-03-26  13:26:01.744  main    efm.impl         INFO     | iteration 0/6: 14 modes, dt=0ms.\t{ next 1/6: 4 adj candidates, [+/0/-] = [2/10/2] }\n",
      "2021-03-26  13:26:01.771  main    efm.impl         INFO     | iteration 1/6: 16 modes, dt=26ms.\t{ next 2/6: 6 adj candidates, [+/0/-] = [2/11/3] }\n",
      "2021-03-26  13:26:01.784  main    efm.impl         INFO     | iteration 2/6: 17 modes, dt=12ms.\t{ next 3/6: 8 adj candidates, [+/0/-] = [2/11/4] }\n",
      "2021-03-26  13:26:01.793  main    efm.impl         INFO     | iteration 3/6: 18 modes, dt=9ms.\t{ next 4/6: 8 adj candidates, [+/0/-] = [2/12/4] }\n",
      "2021-03-26  13:26:01.799  main    efm.impl         INFO     | iteration 4/6: 18 modes, dt=6ms.\t{ next 5/6: 0 adj candidates, [+/0/-] = [11/7/0] }\n",
      "2021-03-26  13:26:01.804  main    efm.impl         INFO     | iteration 5/6: 18 modes, dt=2ms.\t{ next 6/6: 12 adj candidates, [+/0/-] = [2/10/6] }\n",
      "2021-03-26  13:26:01.813  main    efm.impl         INFO     | iteration 6/6: 21 modes, dt=8ms.\n",
      "2021-03-26  13:26:01.814  main    efm.impl         INFO     | TIME iterate: 73ms\n",
      "2021-03-26  13:26:01.814  main    efm.impl         INFO     | efm count before postprocessing: 21\n",
      "2021-03-26  13:26:01.820  main    efm.impl         INFO     | efm count after filtering/consolidation: 16\n",
      "2021-03-26  13:26:01.821  main    efm.impl         INFO     | uncompressing modes (can take a while)\n",
      "2021-03-26  13:26:01.868  main    efm.impl         INFO     | TIME postprocessing: 54ms\n",
      "2021-03-26  13:26:01.869  main    efm.impl         INFO     | overall computation time: 365ms\n",
      "['WARNING: An illegal reflective access operation has occurred\\n', 'WARNING: Illegal reflective access by org.dom4j.io.SAXContentHandler (file:/F:/ownCloud/efmtool_link/efmtool_link/lib/dom4j-1.6.1.jar) to method com.sun.org.apache.xerces.internal.parsers.AbstractSAXParser$LocatorProxy.getEncoding()\\n', 'WARNING: Please consider reporting this to the maintainers of org.dom4j.io.SAXContentHandler\\n', 'WARNING: Use --illegal-access=warn to enable warnings of further illegal reflective access operations\\n', 'WARNING: All illegal access operations will be denied in a future release\\n']\n",
      "16 elementary modes.\n"
     ]
    },
    {
     "output_type": "execute_result",
     "data": {
      "text/plain": [
       "6.661338147750939e-16"
      ]
     },
     "metadata": {},
     "execution_count": 4
    }
   ],
   "source": [
    "# calculate elementary modes of the network\n",
    "import efmtool_link.efmtool_extern as efmtool_extern\n",
    "import efmtool_link.efmtool4cobra as efmtool4cobra\n",
    "reversible, irrev_backwards_idx = efmtool4cobra.get_reversibility(model)\n",
    "# IMPORTANT: an irreversible reaction MUST point in the forward reaction; if this is not the case\n",
    "# flip the reactions in irrev_backwards_idx (none in the running example) before calculating modes\n",
    "st[:, irrev_backwards_idx] *= -1\n",
    "efms = efmtool_extern.calculate_flux_modes(st, reversible)\n",
    "# flip back to the original reaction directions (does nothing in the running example):\n",
    "st[:, irrev_backwards_idx] *= -1\n",
    "efms[irrev_backwards_idx, :] *= -1\n",
    "print(efms.shape[1], \"elementary modes.\") # each column in efms represents a mode\n",
    "numpy.max(numpy.abs(st @ efms)) # should be a value close to 0\n"
   ]
  },
  {
   "cell_type": "code",
   "execution_count": 5,
   "metadata": {},
   "outputs": [
    {
     "output_type": "stream",
     "name": "stdout",
     "text": [
      "0.030999999999039574\n",
      "0.01599999999962165\n"
     ]
    }
   ],
   "source": [
    "# network compression (currently combination of reaction subsets only)\n",
    "# IMPORTANT: the model is modified by this function, if you want to keep the full model copy it first\n",
    "subT = efmtool4cobra.compress_model_sympy(model) # subT is a matrix for conversion of flux vectors between the full and compressed model\n",
    "rd = cobra.util.array.create_stoichiometric_matrix(model, array_type='lil')\n",
    "# model compression makes sure that irreversible reactions always point in the forward direction\n",
    "rev_rd = [int(r.reversibility) for r in model.reactions]"
   ]
  },
  {
   "cell_type": "code",
   "execution_count": 6,
   "metadata": {},
   "outputs": [
    {
     "output_type": "stream",
     "name": "stdout",
     "text": [
      "2021-03-26  13:26:02.521  main                     INFO     | =====================================================\n",
      "2021-03-26  13:26:02.522  main                     INFO     | efmtool version 4.7.1, 2009-12-04 18:30:05\n",
      "2021-03-26  13:26:02.522  main                     INFO     | Copyright (c) 2009, Marco Terzer, Zurich, Switzerland\n",
      "2021-03-26  13:26:02.522  main                     INFO     | This is free software, !!! NO WARRANTY !!!\n",
      "2021-03-26  13:26:02.522  main                     INFO     | See LICENCE.txt for redistribution conditions\n",
      "2021-03-26  13:26:02.522  main                     INFO     | =====================================================\n",
      "2021-03-26  13:26:02.693  main    efm.impl         INFO     | Elemetary flux mode computation\n",
      "2021-03-26  13:26:02.694  main    efm.impl         INFO     | Implementation:\n",
      "2021-03-26  13:26:02.694  main    efm.impl         INFO     | ..algorithm name   : SequentialDoubleDescriptionImpl\n",
      "2021-03-26  13:26:02.694  main    efm.impl         INFO     | ..model type       : NullspaceEfmModel\n",
      "2021-03-26  13:26:02.694  main    efm.impl         INFO     | ..memory type      : InCoreMemory\n",
      "2021-03-26  13:26:02.694  main    efm.impl         INFO     | ..output type      : RandomAccessFile\n",
      "2021-03-26  13:26:02.694  main    efm.impl         INFO     | System:\n",
      "2021-03-26  13:26:02.724  main    efm.impl         INFO     | ..hostname         : NOOP\n",
      "2021-03-26  13:26:02.724  main    efm.impl         INFO     | ..operating system : amd64/Windows 10/10.0\n",
      "2021-03-26  13:26:02.725  main    efm.impl         INFO     | ..processors       : 4\n",
      "2021-03-26  13:26:02.725  main    efm.impl         INFO     | ..vm               : AdoptOpenJDK/OpenJDK 64-Bit Server VM/11.0.8+10\n",
      "2021-03-26  13:26:02.725  main    efm.impl         INFO     | ..vm-spec          : Oracle Corporation/Java Virtual Machine Specification/11\n",
      "2021-03-26  13:26:02.733  main    efm.impl         INFO     | ..vm arguments     : []\n",
      "2021-03-26  13:26:02.734  main    efm.impl         INFO     | ..memory, commited : 134M\n",
      "2021-03-26  13:26:02.734  main    efm.impl         INFO     | ..memory, used     : 5M\n",
      "2021-03-26  13:26:02.735  main    efm.impl         INFO     | Config:\n",
      "2021-03-26  13:26:02.735  main    efm.impl         INFO     | ..generator        : Efm\n",
      "2021-03-26  13:26:02.735  main    efm.impl         INFO     | ..adj method       : pattern-tree-minzero\n",
      "2021-03-26  13:26:02.735  main    efm.impl         INFO     | ..row ordering     : MostZerosOrAbsLexMin\n",
      "2021-03-26  13:26:02.745  main    efm.impl         INFO     | ..arithmetic       : double (prec: -1 / zero: 1.0E-10)\n",
      "2021-03-26  13:26:02.746  main    efm.impl         INFO     | ..compression      : on\n",
      "2021-03-26  13:26:02.746  main    efm.impl         INFO     | ..compr. methods   : [CoupledZero, CoupledContradicting, CoupledCombine, UniqueFlows, DeadEnd, Recursive]\n",
      "2021-03-26  13:26:02.746  main    efm.impl         INFO     | ..normalize        : min\n",
      "2021-03-26  13:26:02.746  main    efm.impl         INFO     | ..max threads      : 4\n",
      "2021-03-26  13:26:02.747  main    efm.impl         INFO     | ..self test        : off\n",
      "2021-03-26  13:26:02.747  main    efm.impl         INFO     | ..progress type    : None\n",
      "2021-03-26  13:26:02.747  main    efm.impl         INFO     | ..progress part.   : 100\n",
      "2021-03-26  13:26:02.753  main    efm.impl         INFO     | ..suppress         : []\n",
      "2021-03-26  13:26:02.753  main    efm.impl         INFO     | ..enforce          : []\n",
      "2021-03-26  13:26:02.753  main    efm.impl         INFO     | ..nosplit          : []\n",
      "2021-03-26  13:26:02.754  main    efm.impl         INFO     | ..temp dir         : C:\\Users\\axel_2\\AppData\\Local\\Temp\\tmp3xvwsrwh\\.\\???\n",
      "2021-03-26  13:26:02.754  main    efm.impl         INFO     | ..flag             : (none)\n",
      "2021-03-26  13:26:02.759  main    efm.impl         INFO     | Distributed Config:\n",
      "2021-03-26  13:26:02.759  main    efm.impl         INFO     | ..node count       : 2\n",
      "2021-03-26  13:26:02.759  main    efm.impl         INFO     | ..nodes            : [localhost, localhost]\n",
      "2021-03-26  13:26:02.759  main    efm.impl         INFO     | ..vmargs           : [-Xmx800M, -Xmx500M]\n",
      "2021-03-26  13:26:02.760  main    efm.impl         INFO     | ..command          : /usr/bin/java [vmargs] -cp [classpath] [class] [args]\n",
      "2021-03-26  13:26:02.763  main    efm.impl         INFO     | ..partition        : 256\n",
      "2021-03-26  13:26:02.764  main    efm.impl         INFO     | ..cand. threshold  : 100000\n",
      "2021-03-26  13:26:02.771  main    efm.impl         INFO     | original network: 13 metabolites, 21 reactions (7 reversible)\n",
      "2021-03-26  13:26:02.809  main    efm.impl         INFO     | compressed network: 7 metabolites, 15 reactions (5 reversible)\n",
      "2021-03-26  13:26:02.863  main    efm.impl         INFO     | stoich expanded has dimensions 7x20\n",
      "2021-03-26  13:26:02.863  main    efm.impl         INFO     | kernel matrix has dimensions 20x14\n",
      "2021-03-26  13:26:02.863  main    efm.impl         INFO     | TIME preprocessing: 189ms\n",
      "2021-03-26  13:26:02.877  main    efm.impl         INFO     | iteration 0/6: 14 modes, dt=0ms.\t{ next 1/6: 3 adj candidates, [+/0/-] = [3/10/1] }\n",
      "2021-03-26  13:26:02.899  main    efm.impl         INFO     | iteration 1/6: 16 modes, dt=22ms.\t{ next 2/6: 6 adj candidates, [+/0/-] = [2/11/3] }\n",
      "2021-03-26  13:26:02.910  main    efm.impl         INFO     | iteration 2/6: 17 modes, dt=11ms.\t{ next 3/6: 8 adj candidates, [+/0/-] = [2/11/4] }\n",
      "2021-03-26  13:26:02.916  main    efm.impl         INFO     | iteration 3/6: 18 modes, dt=6ms.\t{ next 4/6: 8 adj candidates, [+/0/-] = [2/12/4] }\n",
      "2021-03-26  13:26:02.923  main    efm.impl         INFO     | iteration 4/6: 18 modes, dt=7ms.\t{ next 5/6: 10 adj candidates, [+/0/-] = [1/7/10] }\n",
      "2021-03-26  13:26:02.930  main    efm.impl         INFO     | iteration 5/6: 18 modes, dt=6ms.\t{ next 6/6: 12 adj candidates, [+/0/-] = [2/10/6] }\n",
      "2021-03-26  13:26:02.955  main    efm.impl         INFO     | iteration 6/6: 21 modes, dt=24ms.\n",
      "2021-03-26  13:26:02.956  main    efm.impl         INFO     | TIME iterate: 82ms\n",
      "2021-03-26  13:26:02.956  main    efm.impl         INFO     | efm count before postprocessing: 21\n",
      "2021-03-26  13:26:02.963  main    efm.impl         INFO     | efm count after filtering/consolidation: 16\n",
      "2021-03-26  13:26:02.963  main    efm.impl         INFO     | uncompressing modes (can take a while)\n",
      "2021-03-26  13:26:03.000  main    efm.impl         INFO     | TIME postprocessing: 44ms\n",
      "2021-03-26  13:26:03.001  main    efm.impl         INFO     | overall computation time: 327ms\n",
      "['WARNING: An illegal reflective access operation has occurred\\n', 'WARNING: Illegal reflective access by org.dom4j.io.SAXContentHandler (file:/F:/ownCloud/efmtool_link/efmtool_link/lib/dom4j-1.6.1.jar) to method com.sun.org.apache.xerces.internal.parsers.AbstractSAXParser$LocatorProxy.getEncoding()\\n', 'WARNING: Please consider reporting this to the maintainers of org.dom4j.io.SAXContentHandler\\n', 'WARNING: Use --illegal-access=warn to enable warnings of further illegal reflective access operations\\n', 'WARNING: All illegal access operations will be denied in a future release\\n']\n",
      "16 elementary modes.\n"
     ]
    },
    {
     "output_type": "execute_result",
     "data": {
      "text/plain": [
       "6.661338147750939e-16"
      ]
     },
     "metadata": {},
     "execution_count": 6
    }
   ],
   "source": [
    "# calculate modes in the compressed network\n",
    "rd_efms = efmtool_extern.calculate_flux_modes(rd, rev_rd)\n",
    "print(rd_efms.shape[1], \"elementary modes.\")\n",
    "# subT @ rd_efms are the same modes as efms (but can be in different order and scaled differently)\n",
    "numpy.max(numpy.abs(st @ subT @ rd_efms)) # should be a value close to 0"
   ]
  }
 ]
}